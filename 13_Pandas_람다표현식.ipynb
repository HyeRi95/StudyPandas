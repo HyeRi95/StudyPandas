{
 "cells": [
  {
   "cell_type": "markdown",
   "id": "a6e56234",
   "metadata": {},
   "source": [
    "# 람다 표현식 "
   ]
  },
  {
   "cell_type": "code",
   "execution_count": 42,
   "id": "53a6ce6e",
   "metadata": {},
   "outputs": [
    {
     "data": {
      "text/plain": [
       "11"
      ]
     },
     "execution_count": 42,
     "metadata": {},
     "output_type": "execute_result"
    }
   ],
   "source": [
    "def plus_ten(x) :\n",
    "    return x+10\n",
    "plus_ten(1)"
   ]
  },
  {
   "cell_type": "markdown",
   "id": "b7e411a0",
   "metadata": {},
   "source": [
    "- lambda 매개변수들 : 식"
   ]
  },
  {
   "cell_type": "code",
   "execution_count": 44,
   "id": "dd8a514a",
   "metadata": {},
   "outputs": [
    {
     "data": {
      "text/plain": [
       "<function __main__.<lambda>(x)>"
      ]
     },
     "execution_count": 44,
     "metadata": {},
     "output_type": "execute_result"
    }
   ],
   "source": [
    "lambda x : x+10"
   ]
  },
  {
   "cell_type": "code",
   "execution_count": 46,
   "id": "515b040c",
   "metadata": {},
   "outputs": [
    {
     "data": {
      "text/plain": [
       "11"
      ]
     },
     "execution_count": 46,
     "metadata": {},
     "output_type": "execute_result"
    }
   ],
   "source": [
    "(lambda x : x+10)(1)"
   ]
  },
  {
   "cell_type": "code",
   "execution_count": 47,
   "id": "80aecc2f",
   "metadata": {},
   "outputs": [
    {
     "data": {
      "text/plain": [
       "[11, 12, 13]"
      ]
     },
     "execution_count": 47,
     "metadata": {},
     "output_type": "execute_result"
    }
   ],
   "source": [
    "list(map(lambda x : x+10, [1,2,3]))"
   ]
  }
 ],
 "metadata": {
  "kernelspec": {
   "display_name": "Python 3 (ipykernel)",
   "language": "python",
   "name": "python3"
  },
  "language_info": {
   "codemirror_mode": {
    "name": "ipython",
    "version": 3
   },
   "file_extension": ".py",
   "mimetype": "text/x-python",
   "name": "python",
   "nbconvert_exporter": "python",
   "pygments_lexer": "ipython3",
   "version": "3.9.12"
  }
 },
 "nbformat": 4,
 "nbformat_minor": 5
}
