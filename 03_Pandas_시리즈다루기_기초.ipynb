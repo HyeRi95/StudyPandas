{
 "cells": [
  {
   "cell_type": "markdown",
   "id": "c50fb251",
   "metadata": {},
   "source": [
    "# 나만의 데이터 만들기 "
   ]
  },
  {
   "cell_type": "markdown",
   "id": "a97a4ba4",
   "metadata": {},
   "source": [
    "## 시리즈 만들기"
   ]
  },
  {
   "cell_type": "markdown",
   "id": "c82a55ec",
   "metadata": {},
   "source": [
    "> Series() 메소드에 리스트를 전달하여 시리즈생성"
   ]
  },
  {
   "cell_type": "code",
   "execution_count": 2,
   "id": "69d6c105",
   "metadata": {},
   "outputs": [
    {
     "name": "stdout",
     "output_type": "stream",
     "text": [
      "0        Wes Mcikinney\n",
      "1    Creator of Pandas\n",
      "dtype: object\n"
     ]
    }
   ],
   "source": [
    "import pandas as pd\n",
    "s = pd.Series(['Wes Mcikinney','Creator of Pandas'])\n",
    "print(s)"
   ]
  },
  {
   "cell_type": "code",
   "execution_count": 3,
   "id": "20e2a655",
   "metadata": {},
   "outputs": [
    {
     "name": "stdout",
     "output_type": "stream",
     "text": [
      "Person        Wes Mcikinney\n",
      "Who       Creator of Pandas\n",
      "dtype: object\n"
     ]
    }
   ],
   "source": [
    "s = pd.Series(['Wes Mcikinney','Creator of Pandas'], index = ['Person','Who']) #  index 인자에 문자열을 리스트로 담아 전달 \n",
    "print(s)"
   ]
  },
  {
   "cell_type": "markdown",
   "id": "0e21405d",
   "metadata": {},
   "source": [
    "## 데이터프레임 만들기"
   ]
  },
  {
   "cell_type": "markdown",
   "id": "5a9ec978",
   "metadata": {},
   "source": [
    "> DataFrame() 메소드에 딕셔너리 전달하여 데이터프레임 생성"
   ]
  },
  {
   "cell_type": "code",
   "execution_count": 4,
   "id": "e98e6dfb",
   "metadata": {},
   "outputs": [
    {
     "name": "stdout",
     "output_type": "stream",
     "text": [
      "                Name    Occupation        Born        Died  Age\n",
      "0  Rosaline Franklin       Chemist  1920-07-25  1958-04-16   37\n",
      "1     William Gosset  Statistician  1877-06-13  1937-10-16   61\n"
     ]
    }
   ],
   "source": [
    "scientists = pd.DataFrame({\n",
    "    'Name' : ['Rosaline Franklin', 'William Gosset'],\n",
    "    'Occupation':['Chemist', 'Statistician'],\n",
    "    'Born' : ['1920-07-25','1877-06-13'],\n",
    "    'Died': ['1958-04-16','1937-10-16'],\n",
    "    'Age' : [37,61] })\n",
    "print(scientists)"
   ]
  },
  {
   "cell_type": "code",
   "execution_count": 8,
   "id": "f7f1e658",
   "metadata": {},
   "outputs": [
    {
     "name": "stdout",
     "output_type": "stream",
     "text": [
      "                     Occupation        Born  Age        Died\n",
      "Rosaline Franklin       Chemist  1920-07-25   37  1958-04-16\n",
      "William Gosset     Statistician  1877-06-13   61  1937-10-16\n"
     ]
    }
   ],
   "source": [
    "scientists = pd.DataFrame(\n",
    "    data={'Occupation':['Chemist', 'Statistician'],\n",
    "          'Born' : ['1920-07-25','1877-06-13'],\n",
    "          'Died': ['1958-04-16','1937-10-16'],\n",
    "          'Age' : [37,61] },\n",
    "    index = ['Rosaline Franklin', 'William Gosset'],\n",
    "    columns = ['Occupation','Born','Age','Died']) # columns을 내가 원하는 순서로 재 정렬 \n",
    "print(scientists)"
   ]
  },
  {
   "cell_type": "code",
   "execution_count": 9,
   "id": "0da33d61",
   "metadata": {},
   "outputs": [
    {
     "name": "stdout",
     "output_type": "stream",
     "text": [
      "<class 'pandas.core.series.Series'>\n",
      "Occupation    Statistician\n",
      "Born            1877-06-13\n",
      "Age                     61\n",
      "Died            1937-10-16\n",
      "Name: William Gosset, dtype: object\n"
     ]
    }
   ],
   "source": [
    "scientists = pd.DataFrame(\n",
    "    data={'Occupation':['Chemist', 'Statistician'],\n",
    "          'Born' : ['1920-07-25','1877-06-13'],\n",
    "          'Died': ['1958-04-16','1937-10-16'],\n",
    "          'Age' : [37,61] },\n",
    "    index = ['Rosaline Franklin', 'William Gosset'],\n",
    "    columns = ['Occupation','Born','Age','Died']) # columns을 내가 원하는 순서로 재 정렬 \n",
    "first_row = scientists.loc['William Gosset'] # index 값중 William Gosset값을 가진 행을 first_row에 저장 \n",
    "print(type(first_row))\n",
    "print(first_row) "
   ]
  },
  {
   "cell_type": "code",
   "execution_count": 11,
   "id": "2facd4dd",
   "metadata": {},
   "outputs": [
    {
     "name": "stdout",
     "output_type": "stream",
     "text": [
      "Occupation       Chemist\n",
      "Born          1920-07-25\n",
      "Age                   37\n",
      "Died          1958-04-16\n",
      "Name: Rosaline Franklin, dtype: object\n"
     ]
    }
   ],
   "source": [
    "zero_row = scientists.iloc[0] # iloc는 인덱스 숫자값 \n",
    "print(zero_row) "
   ]
  },
  {
   "cell_type": "markdown",
   "id": "6c481398",
   "metadata": {},
   "source": [
    "index 속성사용하기"
   ]
  },
  {
   "cell_type": "code",
   "execution_count": 13,
   "id": "a8fe8b91",
   "metadata": {},
   "outputs": [
    {
     "name": "stdout",
     "output_type": "stream",
     "text": [
      "Index(['Occupation', 'Born', 'Age', 'Died'], dtype='object')\n"
     ]
    }
   ],
   "source": [
    "print(first_row.index)"
   ]
  },
  {
   "cell_type": "markdown",
   "id": "9604a612",
   "metadata": {},
   "source": [
    "values 속성 사용하기"
   ]
  },
  {
   "cell_type": "code",
   "execution_count": 15,
   "id": "c4a8b720",
   "metadata": {},
   "outputs": [
    {
     "name": "stdout",
     "output_type": "stream",
     "text": [
      "['Statistician' '1877-06-13' 61 '1937-10-16']\n"
     ]
    }
   ],
   "source": [
    "print(first_row.values)"
   ]
  },
  {
   "cell_type": "markdown",
   "id": "e0665255",
   "metadata": {},
   "source": [
    "keys()메소드 사용하기(==index 속성)"
   ]
  },
  {
   "cell_type": "code",
   "execution_count": 16,
   "id": "7d91c4cd",
   "metadata": {},
   "outputs": [
    {
     "name": "stdout",
     "output_type": "stream",
     "text": [
      "Index(['Occupation', 'Born', 'Age', 'Died'], dtype='object')\n"
     ]
    }
   ],
   "source": [
    "print(first_row.keys())"
   ]
  },
  {
   "cell_type": "markdown",
   "id": "234c93e0",
   "metadata": {},
   "source": [
    "## 기초통계 메소드 사용하기"
   ]
  },
  {
   "cell_type": "markdown",
   "id": "3a2d6a62",
   "metadata": {},
   "source": [
    "> scientists 데이터 프레임의 Age 열 추출 "
   ]
  },
  {
   "cell_type": "code",
   "execution_count": 17,
   "id": "3cdcaff3",
   "metadata": {},
   "outputs": [
    {
     "name": "stdout",
     "output_type": "stream",
     "text": [
      "Rosaline Franklin    37\n",
      "William Gosset       61\n",
      "Name: Age, dtype: int64\n"
     ]
    }
   ],
   "source": [
    "ages = scientists['Age']\n",
    "print(ages)"
   ]
  },
  {
   "cell_type": "markdown",
   "id": "0a4eb40d",
   "metadata": {},
   "source": [
    ">시리즈 관련 메소드 mean(), sum(), max(), min() 등 ( 교재 page 61-62 참조)"
   ]
  },
  {
   "cell_type": "code",
   "execution_count": 18,
   "id": "1926febc",
   "metadata": {},
   "outputs": [
    {
     "name": "stdout",
     "output_type": "stream",
     "text": [
      "98\n"
     ]
    }
   ],
   "source": [
    "print(ages.sum())"
   ]
  },
  {
   "cell_type": "code",
   "execution_count": 19,
   "id": "caf5d1dc",
   "metadata": {},
   "outputs": [
    {
     "name": "stdout",
     "output_type": "stream",
     "text": [
      "49.0\n"
     ]
    }
   ],
   "source": [
    "print(ages.mean())"
   ]
  },
  {
   "cell_type": "code",
   "execution_count": 20,
   "id": "d257a8c7",
   "metadata": {},
   "outputs": [
    {
     "name": "stdout",
     "output_type": "stream",
     "text": [
      "<class 'pandas.core.frame.DataFrame'>\n",
      "Index: 2 entries, Rosaline Franklin to William Gosset\n",
      "Data columns (total 4 columns):\n",
      " #   Column      Non-Null Count  Dtype \n",
      "---  ------      --------------  ----- \n",
      " 0   Occupation  2 non-null      object\n",
      " 1   Born        2 non-null      object\n",
      " 2   Age         2 non-null      int64 \n",
      " 3   Died        2 non-null      object\n",
      "dtypes: int64(1), object(3)\n",
      "memory usage: 188.0+ bytes\n"
     ]
    }
   ],
   "source": [
    "scientists.info()"
   ]
  },
  {
   "cell_type": "code",
   "execution_count": 25,
   "id": "15001c99",
   "metadata": {},
   "outputs": [
    {
     "name": "stdout",
     "output_type": "stream",
     "text": [
      "             Age\n",
      "count   2.000000\n",
      "mean   49.000000\n",
      "std    16.970563\n",
      "min    37.000000\n",
      "25%    43.000000\n",
      "50%    49.000000\n",
      "75%    55.000000\n",
      "max    61.000000\n"
     ]
    }
   ],
   "source": [
    "print(scientists.describe()) # 수치계산이 가능한 열을 자동으로 여러 메소드를 사용혜 계산 값을 구할때 사용 \n"
   ]
  },
  {
   "cell_type": "code",
   "execution_count": 24,
   "id": "d0cf2c89",
   "metadata": {},
   "outputs": [
    {
     "name": "stdout",
     "output_type": "stream",
     "text": [
      "Age    2.0\n",
      "Name: count, dtype: float64\n"
     ]
    }
   ],
   "source": [
    "print(scientists.describe().loc['count'])"
   ]
  }
 ],
 "metadata": {
  "kernelspec": {
   "display_name": "Python 3 (ipykernel)",
   "language": "python",
   "name": "python3"
  },
  "language_info": {
   "codemirror_mode": {
    "name": "ipython",
    "version": 3
   },
   "file_extension": ".py",
   "mimetype": "text/x-python",
   "name": "python",
   "nbconvert_exporter": "python",
   "pygments_lexer": "ipython3",
   "version": "3.9.12"
  }
 },
 "nbformat": 4,
 "nbformat_minor": 5
}
