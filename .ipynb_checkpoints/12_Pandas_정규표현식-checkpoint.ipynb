{
 "cells": [
  {
   "cell_type": "markdown",
   "id": "ba8b062b",
   "metadata": {},
   "source": [
    "# 정규표현식 사용하기"
   ]
  },
  {
   "cell_type": "markdown",
   "id": "5b41ae36",
   "metadata": {},
   "source": [
    "> re.match('패턴','문자열')"
   ]
  },
  {
   "cell_type": "code",
   "execution_count": 3,
   "id": "3287e115",
   "metadata": {},
   "outputs": [
    {
     "data": {
      "text/plain": [
       "<re.Match object; span=(0, 5), match='Hello'>"
      ]
     },
     "execution_count": 3,
     "metadata": {},
     "output_type": "execute_result"
    }
   ],
   "source": [
    "# 매치 객체가 반환됨\n",
    "import re\n",
    "re.match('Hello','Hello, world!')"
   ]
  },
  {
   "cell_type": "code",
   "execution_count": 4,
   "id": "43f041db",
   "metadata": {},
   "outputs": [],
   "source": [
    "# python 문자열 없으므로 아무것도 반환 X \n",
    "re.match('Python','Hello, world!')"
   ]
  },
  {
   "cell_type": "code",
   "execution_count": 5,
   "id": "77ec40b1",
   "metadata": {},
   "outputs": [],
   "source": [
    "a = re.match('Hello,', 'Hello, World!')"
   ]
  },
  {
   "cell_type": "code",
   "execution_count": 6,
   "id": "0523a005",
   "metadata": {},
   "outputs": [],
   "source": [
    "b = re.match('python', 'Hello, World!')"
   ]
  },
  {
   "cell_type": "code",
   "execution_count": 7,
   "id": "ba78dd6c",
   "metadata": {},
   "outputs": [
    {
     "data": {
      "text/plain": [
       "False"
      ]
     },
     "execution_count": 7,
     "metadata": {},
     "output_type": "execute_result"
    }
   ],
   "source": [
    "a == None"
   ]
  },
  {
   "cell_type": "code",
   "execution_count": 8,
   "id": "0eb47251",
   "metadata": {},
   "outputs": [
    {
     "data": {
      "text/plain": [
       "True"
      ]
     },
     "execution_count": 8,
     "metadata": {},
     "output_type": "execute_result"
    }
   ],
   "source": [
    "b == None"
   ]
  },
  {
   "cell_type": "code",
   "execution_count": 11,
   "id": "a8600300",
   "metadata": {},
   "outputs": [
    {
     "data": {
      "text/plain": [
       "<re.Match object; span=(0, 5), match='Hello'>"
      ]
     },
     "execution_count": 11,
     "metadata": {},
     "output_type": "execute_result"
    }
   ],
   "source": [
    "# ^ 문자열이 맨 앞에 위치해있는지 \n",
    "re.search('^Hello','Hello, world!')"
   ]
  },
  {
   "cell_type": "code",
   "execution_count": 13,
   "id": "bc628cb9",
   "metadata": {},
   "outputs": [
    {
     "data": {
      "text/plain": [
       "<re.Match object; span=(7, 13), match='world!'>"
      ]
     },
     "execution_count": 13,
     "metadata": {},
     "output_type": "execute_result"
    }
   ],
   "source": [
    "# $문자열이 맨 뒤에 위치해있는지\n",
    "re.search('world!$','Hello, world!')"
   ]
  },
  {
   "cell_type": "code",
   "execution_count": 14,
   "id": "7ee753cf",
   "metadata": {},
   "outputs": [
    {
     "data": {
      "text/plain": [
       "<re.Match object; span=(0, 5), match='hello'>"
      ]
     },
     "execution_count": 14,
     "metadata": {},
     "output_type": "execute_result"
    }
   ],
   "source": [
    "# | 특정 문자열에서 지정된 문자열이 하나라도 포함되는지 판단\n",
    "re.match('hello|world','hello')"
   ]
  },
  {
   "cell_type": "code",
   "execution_count": 16,
   "id": "993fcf03",
   "metadata": {},
   "outputs": [
    {
     "name": "stdout",
     "output_type": "stream",
     "text": [
      "<re.Match object; span=(0, 2), match='0e'>\n",
      "<re.Match object; span=(0, 1), match='0'>\n"
     ]
    }
   ],
   "source": [
    "# 숫자 [0-9]\n",
    "# 알파벳 소문자 [a-z]\n",
    "# 알파벳 대문자 [A-Z] \n",
    "# 범위내에 하나만 존재하면 반환 \n",
    "re.match('[0-9]*','1234')\n",
    "print(re.match('[0-9][a-z]','0ello, world!'))\n",
    "print(re.match('[0-9a-z]','0ello,world!'))"
   ]
  },
  {
   "cell_type": "code",
   "execution_count": 19,
   "id": "d0ae14cc",
   "metadata": {},
   "outputs": [
    {
     "name": "stdout",
     "output_type": "stream",
     "text": [
      "<re.Match object; span=(0, 4), match='1234'>\n",
      "<re.Match object; span=(0, 0), match=''>\n",
      "<re.Match object; span=(0, 4), match='1234'>\n",
      "None\n"
     ]
    }
   ],
   "source": [
    "# 숫자로 시작하지 않아도 시작해도 상관없다 [0-9]*, 없어도 매칭은 가능 매칭되는 문자는 없다 \n",
    "# 무조건 숫자가 하나 이상 존재해야한다\n",
    "print(re.match('[0-9]*', '1234'))\n",
    "print(re.match('[0-9]*', 'a'))\n",
    "print(re.match('[0-9]+', '1234')) # 숫자가 무조건 하나 이상 있어야 매칭 \n",
    "print(re.match('[0-9]+', 'abcd'))"
   ]
  },
  {
   "cell_type": "code",
   "execution_count": 20,
   "id": "f85c7996",
   "metadata": {},
   "outputs": [
    {
     "data": {
      "text/plain": [
       "<re.Match object; span=(0, 1), match='b'>"
      ]
     },
     "execution_count": 20,
     "metadata": {},
     "output_type": "execute_result"
    }
   ],
   "source": [
    "re.match('a*b','b') # b에는 a가 0개이상 있으므로 패턴에 매칭 "
   ]
  },
  {
   "cell_type": "code",
   "execution_count": 21,
   "id": "d535ec6d",
   "metadata": {},
   "outputs": [],
   "source": [
    "re.match('a+b','b') # b에는 a가 1개이상 없으므로 매칭 X "
   ]
  },
  {
   "cell_type": "code",
   "execution_count": 23,
   "id": "16ffb833",
   "metadata": {},
   "outputs": [
    {
     "data": {
      "text/plain": [
       "<re.Match object; span=(0, 3), match='aab'>"
      ]
     },
     "execution_count": 23,
     "metadata": {},
     "output_type": "execute_result"
    }
   ],
   "source": [
    "re.match('a*b','aab') # aab에는 a가 0개 이상있으므로 매칭 "
   ]
  },
  {
   "cell_type": "code",
   "execution_count": 24,
   "id": "43490368",
   "metadata": {},
   "outputs": [
    {
     "data": {
      "text/plain": [
       "<re.Match object; span=(0, 3), match='aab'>"
      ]
     },
     "execution_count": 24,
     "metadata": {},
     "output_type": "execute_result"
    }
   ],
   "source": [
    "re.match('a+b','aab') # b에는 a가 1개이상 있으므로 매칭 X  순서는 ab "
   ]
  },
  {
   "cell_type": "code",
   "execution_count": 40,
   "id": "c4dc9603",
   "metadata": {},
   "outputs": [],
   "source": [
    "re.match('a+b','caab') # match되려면 앞에 무조건 a로 시작해야 "
   ]
  },
  {
   "cell_type": "code",
   "execution_count": 25,
   "id": "9f03f42d",
   "metadata": {},
   "outputs": [],
   "source": [
    "re.match('a+b','aacb') # a 1개이상 있고 뒤에 b 있어야 "
   ]
  },
  {
   "cell_type": "markdown",
   "id": "b50afee8",
   "metadata": {},
   "source": [
    "> 문자가 한개만 있는지 판단하기 0개 또는 1개 존재\n"
   ]
  },
  {
   "cell_type": "code",
   "execution_count": 26,
   "id": "1d3d711b",
   "metadata": {},
   "outputs": [
    {
     "data": {
      "text/plain": [
       "<re.Match object; span=(0, 3), match='abd'>"
      ]
     },
     "execution_count": 26,
     "metadata": {},
     "output_type": "execute_result"
    }
   ],
   "source": [
    "re.match('abc?d','abd')"
   ]
  },
  {
   "cell_type": "code",
   "execution_count": 27,
   "id": "23d6d7e2",
   "metadata": {},
   "outputs": [
    {
     "data": {
      "text/plain": [
       "<re.Match object; span=(0, 4), match='ab3c'>"
      ]
     },
     "execution_count": 27,
     "metadata": {},
     "output_type": "execute_result"
    }
   ],
   "source": [
    "re.match('ab[0-9]?c','ab3c') # ab 뒤에 0-9사이의 숫자가 0개 또는 1개 존재하고 뒤에 c 있으면 매칭 "
   ]
  },
  {
   "cell_type": "code",
   "execution_count": 31,
   "id": "6c028135",
   "metadata": {},
   "outputs": [
    {
     "data": {
      "text/plain": [
       "<re.Match object; span=(0, 4), match='abㅅd'>"
      ]
     },
     "execution_count": 31,
     "metadata": {},
     "output_type": "execute_result"
    }
   ],
   "source": [
    "re.match('ab.d','abxd') # .이 있는 위치에 문자든 숫자든 1개 존재하면 매칭 "
   ]
  },
  {
   "cell_type": "code",
   "execution_count": 32,
   "id": "119a3e85",
   "metadata": {},
   "outputs": [
    {
     "data": {
      "text/plain": [
       "<re.Match object; span=(0, 5), match='ab*1d'>"
      ]
     },
     "execution_count": 32,
     "metadata": {},
     "output_type": "execute_result"
    }
   ],
   "source": [
    "re.match('ab..d','ab*1d')"
   ]
  },
  {
   "cell_type": "markdown",
   "id": "4083db11",
   "metadata": {},
   "source": [
    "> 문자 개수 판단하기"
   ]
  },
  {
   "cell_type": "code",
   "execution_count": 33,
   "id": "6734bde9",
   "metadata": {},
   "outputs": [
    {
     "data": {
      "text/plain": [
       "<re.Match object; span=(0, 3), match='hhh'>"
      ]
     },
     "execution_count": 33,
     "metadata": {},
     "output_type": "execute_result"
    }
   ],
   "source": [
    "re.match('h{3}','hhhello')"
   ]
  },
  {
   "cell_type": "code",
   "execution_count": 37,
   "id": "9383cef8",
   "metadata": {},
   "outputs": [
    {
     "data": {
      "text/plain": [
       "<re.Match object; span=(0, 18), match='hello hello hello '>"
      ]
     },
     "execution_count": 37,
     "metadata": {},
     "output_type": "execute_result"
    }
   ],
   "source": [
    "re.match('(hello ){3}', 'hello hello hello world')\n"
   ]
  },
  {
   "cell_type": "markdown",
   "id": "5ce8c793",
   "metadata": {},
   "source": [
    "> 특정범위의 문자(숫자)가 몇개있는지 판단"
   ]
  },
  {
   "cell_type": "code",
   "execution_count": 42,
   "id": "11904a8e",
   "metadata": {},
   "outputs": [
    {
     "data": {
      "text/plain": [
       "<re.Match object; span=(0, 13), match='010-1000-1000'>"
      ]
     },
     "execution_count": 42,
     "metadata": {},
     "output_type": "execute_result"
    }
   ],
   "source": [
    "# [0-9]{개수}\n",
    "re.match('[0-9]{3}-[0-9]{4}-[0-9]{4}','010-1000-1000')"
   ]
  },
  {
   "cell_type": "code",
   "execution_count": 43,
   "id": "47312341",
   "metadata": {},
   "outputs": [],
   "source": [
    "# 숫자 3개 , 4개 ,4개 패턴에 매칭되지 않음 \n",
    "re.match('[0-9]{3}-[0-9]{4}-[0-9]{4}','010-1000-100')"
   ]
  },
  {
   "cell_type": "code",
   "execution_count": 46,
   "id": "1d66c09a",
   "metadata": {},
   "outputs": [
    {
     "data": {
      "text/plain": [
       "<re.Match object; span=(0, 11), match='02-100-1000'>"
      ]
     },
     "execution_count": 46,
     "metadata": {},
     "output_type": "execute_result"
    }
   ],
   "source": [
    "re.match('[0-9]{2,3}-[0-9]{3,4}-[0-9]{4}','02-100-1000')"
   ]
  },
  {
   "cell_type": "code",
   "execution_count": 47,
   "id": "8feeb8dc",
   "metadata": {},
   "outputs": [],
   "source": [
    "# 2,3 - 3,4 - 4 패턴에 매칭 X  \n",
    "re.match('[0-9]{2,3}-[0-9]{3,4}-[0-9]{4}','02-10-1000')"
   ]
  },
  {
   "cell_type": "code",
   "execution_count": 51,
   "id": "e464956d",
   "metadata": {},
   "outputs": [
    {
     "data": {
      "text/plain": [
       "<re.Match object; span=(0, 9), match='Hello1234'>"
      ]
     },
     "execution_count": 51,
     "metadata": {},
     "output_type": "execute_result"
    }
   ],
   "source": [
    "# a-z 까지 A-Z까지 0-9까지 1개 이상있으므로\n",
    "re.match('[a-zA-Z0-9]+','Hello1234')"
   ]
  },
  {
   "cell_type": "code",
   "execution_count": 49,
   "id": "8e5bae4b",
   "metadata": {},
   "outputs": [],
   "source": [
    "# 대문자 숫자 없고 소문자만 있으므로 매칭 X \n",
    "# 대문자로 시작해야 \n",
    "re.match('[A-Z0-9]+','hello')"
   ]
  },
  {
   "cell_type": "markdown",
   "id": "1ef7a8dd",
   "metadata": {},
   "source": [
    "> 한글 매칭 "
   ]
  },
  {
   "cell_type": "code",
   "execution_count": 56,
   "id": "e53fd9a7",
   "metadata": {},
   "outputs": [
    {
     "data": {
      "text/plain": [
       "<re.Match object; span=(0, 3), match='홍길동'>"
      ]
     },
     "execution_count": 56,
     "metadata": {},
     "output_type": "execute_result"
    }
   ],
   "source": [
    "re.match('[가-힣]+','홍길동')"
   ]
  },
  {
   "cell_type": "code",
   "execution_count": 57,
   "id": "504d0d36",
   "metadata": {},
   "outputs": [
    {
     "data": {
      "text/plain": [
       "<re.Match object; span=(0, 5), match='홍길동ㅎㅇ'>"
      ]
     },
     "execution_count": 57,
     "metadata": {},
     "output_type": "execute_result"
    }
   ],
   "source": [
    "re.match('[가-힣ㄱ-ㅎㅏ-ㅣ]+','홍길동ㅎㅇ') # 자음 모음 따로 매칭할때 "
   ]
  },
  {
   "cell_type": "markdown",
   "id": "b7e2ae10",
   "metadata": {},
   "source": [
    "> 특정문자 범위에 포함되지 않는지 판단하기"
   ]
  },
  {
   "cell_type": "markdown",
   "id": "e13d4466",
   "metadata": {},
   "source": [
    "[^범위]* "
   ]
  },
  {
   "cell_type": "markdown",
   "id": "4b45c58f",
   "metadata": {},
   "source": [
    "[^범위]+"
   ]
  },
  {
   "cell_type": "code",
   "execution_count": 60,
   "id": "e0847ab3",
   "metadata": {},
   "outputs": [
    {
     "data": {
      "text/plain": [
       "<re.Match object; span=(0, 5), match='hello'>"
      ]
     },
     "execution_count": 60,
     "metadata": {},
     "output_type": "execute_result"
    }
   ],
   "source": [
    "re.match('[^A-Z]+', 'Hello') #매칭 X "
   ]
  },
  {
   "cell_type": "code",
   "execution_count": 64,
   "id": "ef432530",
   "metadata": {},
   "outputs": [
    {
     "data": {
      "text/plain": [
       "<re.Match object; span=(0, 1), match='H'>"
      ]
     },
     "execution_count": 64,
     "metadata": {},
     "output_type": "execute_result"
    }
   ],
   "source": [
    "re.match('^[A-Z]+', 'Hello') #매칭 O ^ 위치 주의 "
   ]
  },
  {
   "cell_type": "code",
   "execution_count": 62,
   "id": "ed1a0d34",
   "metadata": {},
   "outputs": [
    {
     "data": {
      "text/plain": [
       "<re.Match object; span=(0, 9), match='hello~~!!'>"
      ]
     },
     "execution_count": 62,
     "metadata": {},
     "output_type": "execute_result"
    }
   ],
   "source": [
    "re.match('[^A-Z]+', 'hello~~!!')#매칭 X "
   ]
  },
  {
   "cell_type": "markdown",
   "id": "9512fbf2",
   "metadata": {},
   "source": [
    "[범위]*$"
   ]
  },
  {
   "cell_type": "markdown",
   "id": "32709015",
   "metadata": {},
   "source": [
    "[범위]+$"
   ]
  },
  {
   "cell_type": "code",
   "execution_count": 66,
   "id": "fa84f7eb",
   "metadata": {},
   "outputs": [
    {
     "data": {
      "text/plain": [
       "<re.Match object; span=(5, 9), match='1234'>"
      ]
     },
     "execution_count": 66,
     "metadata": {},
     "output_type": "execute_result"
    }
   ],
   "source": [
    "# 특정문자(숫자) 범위로 끝나는지 확인할때 $ \n",
    "re.search('[0-9]+$','Hello1234')"
   ]
  },
  {
   "cell_type": "markdown",
   "id": "9d3895f3",
   "metadata": {},
   "source": [
    "> 특수문자 찾을때는 \\ 사용"
   ]
  },
  {
   "cell_type": "code",
   "execution_count": 69,
   "id": "bb85140d",
   "metadata": {},
   "outputs": [
    {
     "data": {
      "text/plain": [
       "<re.Match object; span=(3, 4), match='*'>"
      ]
     },
     "execution_count": 69,
     "metadata": {},
     "output_type": "execute_result"
    }
   ],
   "source": [
    "re.search('\\*','123*')"
   ]
  },
  {
   "cell_type": "code",
   "execution_count": 67,
   "id": "0607ba0e",
   "metadata": {},
   "outputs": [
    {
     "data": {
      "text/plain": [
       "<re.Match object; span=(1, 3), match='**'>"
      ]
     },
     "execution_count": 67,
     "metadata": {},
     "output_type": "execute_result"
    }
   ],
   "source": [
    "re.search('\\*+','1**2') # *이 들어있는지 판단 "
   ]
  },
  {
   "cell_type": "code",
   "execution_count": 68,
   "id": "735dd76c",
   "metadata": {},
   "outputs": [
    {
     "data": {
      "text/plain": [
       "<re.Match object; span=(0, 11), match='$(document)'>"
      ]
     },
     "execution_count": 68,
     "metadata": {},
     "output_type": "execute_result"
    }
   ],
   "source": [
    "re.match('[$()a-zA-Z0-9]+','$(document)') # $,(,)와 문자, 숫자가 들어있는지 판단 "
   ]
  },
  {
   "cell_type": "code",
   "execution_count": null,
   "id": "0dcb1ccd",
   "metadata": {},
   "outputs": [],
   "source": [
    "re.search('\\++','1++2') # \\+ <- + 있는지 찾기 , 뒤에있는 +는 하나 이상존재하는지 "
   ]
  },
  {
   "cell_type": "markdown",
   "id": "3b8eabe1",
   "metadata": {},
   "source": [
    "- \\d : 모든숫자 [0-9]\n",
    "- \\D : 숫자를 제외한 모든 문자 [^0-9]\n",
    "- \\w : 영문 대소문자, 숫자, 밑줄문자[a-zA-Z0-9]\n",
    "- \\W : 영문 대소문자, 숫자, 밑줄문자를 제외한 모든문자 [^a-zA-Z0-9]"
   ]
  },
  {
   "cell_type": "code",
   "execution_count": 70,
   "id": "cb3b0b9f",
   "metadata": {},
   "outputs": [
    {
     "data": {
      "text/plain": [
       "<re.Match object; span=(0, 4), match='1234'>"
      ]
     },
     "execution_count": 70,
     "metadata": {},
     "output_type": "execute_result"
    }
   ],
   "source": [
    "re.match('\\d+','1234')"
   ]
  },
  {
   "cell_type": "code",
   "execution_count": 71,
   "id": "636e5e94",
   "metadata": {},
   "outputs": [
    {
     "data": {
      "text/plain": [
       "<re.Match object; span=(0, 5), match='Hello'>"
      ]
     },
     "execution_count": 71,
     "metadata": {},
     "output_type": "execute_result"
    }
   ],
   "source": [
    "re.match('\\D+', 'Hello')"
   ]
  },
  {
   "cell_type": "code",
   "execution_count": 72,
   "id": "f1c84db8",
   "metadata": {},
   "outputs": [
    {
     "data": {
      "text/plain": [
       "<re.Match object; span=(0, 10), match='Hello_1234'>"
      ]
     },
     "execution_count": 72,
     "metadata": {},
     "output_type": "execute_result"
    }
   ],
   "source": [
    "re.match('\\w+','Hello_1234') # [0-9a-zA-Z_]"
   ]
  },
  {
   "cell_type": "code",
   "execution_count": 74,
   "id": "b485aecf",
   "metadata": {},
   "outputs": [
    {
     "data": {
      "text/plain": [
       "<re.Match object; span=(0, 3), match='(:)'>"
      ]
     },
     "execution_count": 74,
     "metadata": {},
     "output_type": "execute_result"
    }
   ],
   "source": [
    "re.match('\\W+','(:)') "
   ]
  },
  {
   "cell_type": "markdown",
   "id": "e909aa89",
   "metadata": {},
   "source": [
    "> 공백 처리하기"
   ]
  },
  {
   "cell_type": "markdown",
   "id": "680734c4",
   "metadata": {},
   "source": [
    "- \\s : [\\t\\n\\r\\f\\v]와 같다 스페이스, 탭 , 새줄, 캐리지리턴 ,폼피드, 수직탭 포함\n",
    "- \\S : [^\\t\\n\\r\\f\\v] 공백제외 "
   ]
  },
  {
   "cell_type": "code",
   "execution_count": 75,
   "id": "f2c7727d",
   "metadata": {},
   "outputs": [
    {
     "data": {
      "text/plain": [
       "<re.Match object; span=(0, 14), match='\\n\\n            '>"
      ]
     },
     "execution_count": 75,
     "metadata": {},
     "output_type": "execute_result"
    }
   ],
   "source": [
    "re.match('\\s+','''\n",
    "\n",
    "            ''')"
   ]
  },
  {
   "cell_type": "code",
   "execution_count": 78,
   "id": "140cc29e",
   "metadata": {},
   "outputs": [
    {
     "data": {
      "text/plain": [
       "<re.Match object; span=(0, 4), match='    '>"
      ]
     },
     "execution_count": 78,
     "metadata": {},
     "output_type": "execute_result"
    }
   ],
   "source": [
    "re.match('\\s+','    ')"
   ]
  },
  {
   "cell_type": "code",
   "execution_count": 80,
   "id": "cd70adf4",
   "metadata": {},
   "outputs": [
    {
     "data": {
      "text/plain": [
       "<re.Match object; span=(0, 9), match='asdfe304i'>"
      ]
     },
     "execution_count": 80,
     "metadata": {},
     "output_type": "execute_result"
    }
   ],
   "source": [
    "re.match('\\S+','asdfe304i   wlekj')"
   ]
  },
  {
   "cell_type": "markdown",
   "id": "325e43c7",
   "metadata": {},
   "source": [
    "> 정규표현식 패턴을 객체로 만들어 사용"
   ]
  },
  {
   "cell_type": "code",
   "execution_count": 82,
   "id": "08c9e7f8",
   "metadata": {},
   "outputs": [],
   "source": [
    "p = re.compile('[0-9]+') # [0-9] = [\\d]"
   ]
  },
  {
   "cell_type": "code",
   "execution_count": 83,
   "id": "9cffe80f",
   "metadata": {},
   "outputs": [
    {
     "data": {
      "text/plain": [
       "<re.Match object; span=(0, 4), match='1234'>"
      ]
     },
     "execution_count": 83,
     "metadata": {},
     "output_type": "execute_result"
    }
   ],
   "source": [
    "p.match('1234')"
   ]
  },
  {
   "cell_type": "code",
   "execution_count": 85,
   "id": "4db1f6ac",
   "metadata": {},
   "outputs": [
    {
     "data": {
      "text/plain": [
       "<re.Match object; span=(5, 9), match='0701'>"
      ]
     },
     "execution_count": 85,
     "metadata": {},
     "output_type": "execute_result"
    }
   ],
   "source": [
    "p.search('hello0701')"
   ]
  },
  {
   "cell_type": "code",
   "execution_count": 86,
   "id": "2ae83da6",
   "metadata": {},
   "outputs": [
    {
     "data": {
      "text/plain": [
       "['1', '2', '4', '7', '89']"
      ]
     },
     "execution_count": 86,
     "metadata": {},
     "output_type": "execute_result"
    }
   ],
   "source": [
    "re.findall('[0-9]+','1 2 Fizz 4 Buzz Fizz 7 89') # 숫자들 다 매칭해서 리스트로 저장 "
   ]
  },
  {
   "cell_type": "markdown",
   "id": "0c5d64f8",
   "metadata": {},
   "source": [
    "> 특정 문자열을 찾아 바꾸기"
   ]
  },
  {
   "cell_type": "markdown",
   "id": "c0cd8823",
   "metadata": {},
   "source": [
    "re.sub('패턴','바꿀문자열','문자열',바꿀횟수)"
   ]
  },
  {
   "cell_type": "code",
   "execution_count": 87,
   "id": "891e1d18",
   "metadata": {},
   "outputs": [
    {
     "name": "stdout",
     "output_type": "stream",
     "text": [
      "fruit box fruit tree\n",
      "fruit box orange tree\n"
     ]
    }
   ],
   "source": [
    "import re\n",
    "# apple orange 찾아서 friut 바꾸기 \n",
    "print(re.sub('apple|orange','fruit','apple box orange tree'))\n",
    "print(re.sub('apple|orange','fruit','apple box orange tree',1)) # 앞에 하나만 바꾸기"
   ]
  },
  {
   "cell_type": "code",
   "execution_count": 88,
   "id": "7b5f5602",
   "metadata": {},
   "outputs": [
    {
     "data": {
      "text/plain": [
       "'* * Fizz * Buzz Fizz * *'"
      ]
     },
     "execution_count": 88,
     "metadata": {},
     "output_type": "execute_result"
    }
   ],
   "source": [
    "# 숫자만 찾아서 * 으로 바꿈\n",
    "re.sub('[0-9]+', '*','1 2 Fizz 4 Buzz Fizz 7 8')"
   ]
  },
  {
   "cell_type": "markdown",
   "id": "1faa7ac3",
   "metadata": {},
   "source": [
    "- 예제 이메일 확인하기"
   ]
  },
  {
   "cell_type": "code",
   "execution_count": 89,
   "id": "d67e3f52",
   "metadata": {},
   "outputs": [],
   "source": [
    "# p = re.compile('^[\\w\\+\\.]+[@]+[\\w]+[.]+[\\w]') 수정 필요 \n",
    "p = re.compile('^[a-zA-Z0-9.+-_]+@[a-z-]+\\.[a-z.]+$')"
   ]
  },
  {
   "cell_type": "code",
   "execution_count": 90,
   "id": "db140108",
   "metadata": {},
   "outputs": [
    {
     "name": "stdout",
     "output_type": "stream",
     "text": [
      "True True True True True False False False "
     ]
    }
   ],
   "source": [
    "emails = ['python@mail.example.com', 'python+kr@example.com', 'python-dojang@example.co.kr',\n",
    "          'python_10@example.info','python.dojang@e-xample.com', '@example.com','python@example',\n",
    "         'python@exmple-co']\n",
    "for email in emails :\n",
    "    print(p.match(email)!=None, end= ' ')"
   ]
  }
 ],
 "metadata": {
  "kernelspec": {
   "display_name": "Python 3 (ipykernel)",
   "language": "python",
   "name": "python3"
  },
  "language_info": {
   "codemirror_mode": {
    "name": "ipython",
    "version": 3
   },
   "file_extension": ".py",
   "mimetype": "text/x-python",
   "name": "python",
   "nbconvert_exporter": "python",
   "pygments_lexer": "ipython3",
   "version": "3.9.12"
  }
 },
 "nbformat": 4,
 "nbformat_minor": 5
}
