{
 "cells": [
  {
   "cell_type": "code",
   "execution_count": 11,
   "id": "e33cad2a",
   "metadata": {},
   "outputs": [],
   "source": [
    "a = 'hello my name is hyeri cho I want to go home now'\n",
    "b = \"Hello\"\n",
    "c = '''1234'''\n",
    "d = \"\"\"@!$%^*\"\"\"\n"
   ]
  },
  {
   "cell_type": "code",
   "execution_count": 12,
   "id": "172e3e8e",
   "metadata": {},
   "outputs": [
    {
     "data": {
      "text/plain": [
       "'h'"
      ]
     },
     "execution_count": 12,
     "metadata": {},
     "output_type": "execute_result"
    }
   ],
   "source": [
    "a[0:1]"
   ]
  },
  {
   "cell_type": "code",
   "execution_count": 13,
   "id": "61a8a191",
   "metadata": {},
   "outputs": [
    {
     "data": {
      "text/plain": [
       "'w'"
      ]
     },
     "execution_count": 13,
     "metadata": {},
     "output_type": "execute_result"
    }
   ],
   "source": [
    "a[-1]"
   ]
  },
  {
   "cell_type": "code",
   "execution_count": 14,
   "id": "12b800c6",
   "metadata": {},
   "outputs": [
    {
     "data": {
      "text/plain": [
       "'Hello my name is hyeri cho i want to go home now'"
      ]
     },
     "execution_count": 14,
     "metadata": {},
     "output_type": "execute_result"
    }
   ],
   "source": [
    "# 첫 문자를 대문자로 변환 \n",
    "a.capitalize()"
   ]
  },
  {
   "cell_type": "code",
   "execution_count": 19,
   "id": "e370a251",
   "metadata": {},
   "outputs": [
    {
     "data": {
      "text/plain": [
       "3"
      ]
     },
     "execution_count": 19,
     "metadata": {},
     "output_type": "execute_result"
    }
   ],
   "source": [
    "# 문자의 개수를 문자열에서 찾아서 카운트\n",
    "a.count('n')"
   ]
  },
  {
   "cell_type": "code",
   "execution_count": 18,
   "id": "aa66531b",
   "metadata": {},
   "outputs": [
    {
     "data": {
      "text/plain": [
       "-1"
      ]
     },
     "execution_count": 18,
     "metadata": {},
     "output_type": "execute_result"
    }
   ],
   "source": [
    "# 문자열에서 문자를 찾아서 인덱스를 반환, 없으면 -1 \n",
    "a.find('zd')"
   ]
  },
  {
   "cell_type": "code",
   "execution_count": 21,
   "id": "a9627d13",
   "metadata": {},
   "outputs": [
    {
     "data": {
      "text/plain": [
       "9"
      ]
     },
     "execution_count": 21,
     "metadata": {},
     "output_type": "execute_result"
    }
   ],
   "source": [
    "# find 하고 동일한데 실패시 valueError 반환\n",
    "a.index('n')"
   ]
  },
  {
   "cell_type": "code",
   "execution_count": 22,
   "id": "faa59c82",
   "metadata": {},
   "outputs": [
    {
     "data": {
      "text/plain": [
       "'HELLO MY NAME IS HYERI CHO I WANT TO GO HOME NOW'"
      ]
     },
     "execution_count": 22,
     "metadata": {},
     "output_type": "execute_result"
    }
   ],
   "source": [
    "# 문자를 대문자로 변환\n",
    "A = a.upper()\n",
    "A"
   ]
  },
  {
   "cell_type": "code",
   "execution_count": 23,
   "id": "acf8e037",
   "metadata": {},
   "outputs": [
    {
     "data": {
      "text/plain": [
       "'hello my name is hyeri cho i want to go home now'"
      ]
     },
     "execution_count": 23,
     "metadata": {},
     "output_type": "execute_result"
    }
   ],
   "source": [
    "# 문자를 소문자로 변환\n",
    "a = A.lower()\n",
    "a\n"
   ]
  },
  {
   "cell_type": "code",
   "execution_count": 25,
   "id": "fa0a6fe6",
   "metadata": {},
   "outputs": [
    {
     "data": {
      "text/plain": [
       "'hell0 my name is hyeri ch0 i want t0 g0 h0me n0w'"
      ]
     },
     "execution_count": 25,
     "metadata": {},
     "output_type": "execute_result"
    }
   ],
   "source": [
    "# replace 특정문자(열)를 다른문자로 변환 \n",
    "a.replace('o','0')\n"
   ]
  },
  {
   "cell_type": "code",
   "execution_count": 27,
   "id": "d9e8fe84",
   "metadata": {},
   "outputs": [
    {
     "data": {
      "text/plain": [
       "'abc     def'"
      ]
     },
     "execution_count": 27,
     "metadata": {},
     "output_type": "execute_result"
    }
   ],
   "source": [
    "# 문자의 앞, 뒤 공간의 빈 공간을 없애는 함수\n",
    "b = '     abc     def     '\n",
    "b.strip()\n"
   ]
  },
  {
   "cell_type": "code",
   "execution_count": 33,
   "id": "e3eb3924",
   "metadata": {},
   "outputs": [
    {
     "data": {
      "text/plain": [
       "['https:', '', 'blog.naver.com', 'hjhj5563', '222752743981']"
      ]
     },
     "execution_count": 33,
     "metadata": {},
     "output_type": "execute_result"
    }
   ],
   "source": [
    "# 문자를 특정 구간으로 잘라주는 함수 > 리스트로 저장\n",
    "url = 'https://blog.naver.com/hjhj5563/222752743981'\n",
    "urls=url.split('/') # / 구분자로 자르기 \n",
    "urls"
   ]
  },
  {
   "cell_type": "code",
   "execution_count": 34,
   "id": "2072f406",
   "metadata": {},
   "outputs": [
    {
     "data": {
      "text/plain": [
       "'https://blog.naver.com/hjhj5563/222752743981'"
      ]
     },
     "execution_count": 34,
     "metadata": {},
     "output_type": "execute_result"
    }
   ],
   "source": [
    "# 리스트에 있는 문자열을 하나로 합져주는 함수 \n",
    "'/'.join(urls)"
   ]
  },
  {
   "cell_type": "markdown",
   "id": "b9416db8",
   "metadata": {},
   "source": [
    " # 문자열 포맷팅"
   ]
  },
  {
   "cell_type": "code",
   "execution_count": 37,
   "id": "9129a453",
   "metadata": {},
   "outputs": [
    {
     "name": "stdout",
     "output_type": "stream",
     "text": [
      "It's just a flesh wound!\n"
     ]
    }
   ],
   "source": [
    "var = 'flesh wound'\n",
    "s = \"It's just a {}!\"\n",
    "print(s.format(var))"
   ]
  },
  {
   "cell_type": "code",
   "execution_count": 38,
   "id": "86c74123",
   "metadata": {},
   "outputs": [
    {
     "data": {
      "text/plain": [
       "\"It's just a flesh wound\""
      ]
     },
     "execution_count": 38,
     "metadata": {},
     "output_type": "execute_result"
    }
   ],
   "source": [
    "\"It's just a {}\".format('flesh wound')"
   ]
  },
  {
   "cell_type": "code",
   "execution_count": 3,
   "id": "d0175f78",
   "metadata": {},
   "outputs": [
    {
     "name": "stdout",
     "output_type": "stream",
     "text": [
      "10+5=15\n"
     ]
    }
   ],
   "source": [
    "a = 10; b=5\n",
    "print('{}+{}={}'.format(a,b,a+b)) # 앞에서부터 순서대로 넣겠다 "
   ]
  },
  {
   "cell_type": "code",
   "execution_count": 41,
   "id": "770667a7",
   "metadata": {},
   "outputs": [
    {
     "data": {
      "text/plain": [
       "'10+5=15'"
      ]
     },
     "execution_count": 41,
     "metadata": {},
     "output_type": "execute_result"
    }
   ],
   "source": [
    "f'{a}+{b}={a+b}'"
   ]
  },
  {
   "cell_type": "code",
   "execution_count": 42,
   "id": "f06eaeda",
   "metadata": {},
   "outputs": [
    {
     "data": {
      "text/plain": [
       "'10+10=10'"
      ]
     },
     "execution_count": 42,
     "metadata": {},
     "output_type": "execute_result"
    }
   ],
   "source": [
    "'{0}+{0}={0}'.format(a,b) # a 의 인덱스 0번 "
   ]
  },
  {
   "cell_type": "code",
   "execution_count": 43,
   "id": "297585c3",
   "metadata": {},
   "outputs": [
    {
     "data": {
      "text/plain": [
       "'10 + 5 = 15'"
      ]
     },
     "execution_count": 43,
     "metadata": {},
     "output_type": "execute_result"
    }
   ],
   "source": [
    "'%d + %d = %d'%(a,b,a+b)"
   ]
  },
  {
   "cell_type": "code",
   "execution_count": 4,
   "id": "c4d31653",
   "metadata": {},
   "outputs": [
    {
     "data": {
      "text/plain": [
       "'10'"
      ]
     },
     "execution_count": 4,
     "metadata": {},
     "output_type": "execute_result"
    }
   ],
   "source": [
    "f'{a}'"
   ]
  },
  {
   "cell_type": "code",
   "execution_count": 5,
   "id": "30d2c8b4",
   "metadata": {},
   "outputs": [
    {
     "data": {
      "text/plain": [
       "'0.0001000000'"
      ]
     },
     "execution_count": 5,
     "metadata": {},
     "output_type": "execute_result"
    }
   ],
   "source": [
    "'%.10f'%0.0001"
   ]
  },
  {
   "cell_type": "code",
   "execution_count": 6,
   "id": "2501c565",
   "metadata": {},
   "outputs": [
    {
     "name": "stdout",
     "output_type": "stream",
     "text": [
      "사과의 가격은 1000 원 입니다.\n"
     ]
    }
   ],
   "source": [
    "apple = 1000\n",
    "print('사과의 가격은 %d 원 입니다.'%(apple))"
   ]
  }
 ],
 "metadata": {
  "kernelspec": {
   "display_name": "Python 3 (ipykernel)",
   "language": "python",
   "name": "python3"
  },
  "language_info": {
   "codemirror_mode": {
    "name": "ipython",
    "version": 3
   },
   "file_extension": ".py",
   "mimetype": "text/x-python",
   "name": "python",
   "nbconvert_exporter": "python",
   "pygments_lexer": "ipython3",
   "version": "3.9.12"
  }
 },
 "nbformat": 4,
 "nbformat_minor": 5
}
